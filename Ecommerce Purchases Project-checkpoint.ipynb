{
 "cells": [
  {
   "cell_type": "code",
   "execution_count": 1,
   "id": "802b7439-6d2d-4b90-acf8-a319b15f86b7",
   "metadata": {},
   "outputs": [],
   "source": [
    "import pandas as pd"
   ]
  },
  {
   "cell_type": "code",
   "execution_count": 2,
   "id": "639baa0d-f898-4702-a735-effaa2fdc680",
   "metadata": {},
   "outputs": [
    {
     "data": {
      "text/html": [
       "<div>\n",
       "<style scoped>\n",
       "    .dataframe tbody tr th:only-of-type {\n",
       "        vertical-align: middle;\n",
       "    }\n",
       "\n",
       "    .dataframe tbody tr th {\n",
       "        vertical-align: top;\n",
       "    }\n",
       "\n",
       "    .dataframe thead th {\n",
       "        text-align: right;\n",
       "    }\n",
       "</style>\n",
       "<table border=\"1\" class=\"dataframe\">\n",
       "  <thead>\n",
       "    <tr style=\"text-align: right;\">\n",
       "      <th></th>\n",
       "      <th>Address</th>\n",
       "      <th>Lot</th>\n",
       "      <th>AM or PM</th>\n",
       "      <th>Browser Info</th>\n",
       "      <th>Company</th>\n",
       "      <th>Credit Card</th>\n",
       "      <th>CC Exp Date</th>\n",
       "      <th>CC Security Code</th>\n",
       "      <th>CC Provider</th>\n",
       "      <th>Email</th>\n",
       "      <th>Job</th>\n",
       "      <th>IP Address</th>\n",
       "      <th>Language</th>\n",
       "      <th>Purchase Price</th>\n",
       "    </tr>\n",
       "  </thead>\n",
       "  <tbody>\n",
       "    <tr>\n",
       "      <th>0</th>\n",
       "      <td>16629 Pace Camp Apt. 448\\nAlexisborough, NE 77...</td>\n",
       "      <td>46 in</td>\n",
       "      <td>PM</td>\n",
       "      <td>Opera/9.56.(X11; Linux x86_64; sl-SI) Presto/2...</td>\n",
       "      <td>Martinez-Herman</td>\n",
       "      <td>6011929061123406</td>\n",
       "      <td>02/20</td>\n",
       "      <td>900</td>\n",
       "      <td>JCB 16 digit</td>\n",
       "      <td>pdunlap@yahoo.com</td>\n",
       "      <td>Scientist, product/process development</td>\n",
       "      <td>149.146.147.205</td>\n",
       "      <td>el</td>\n",
       "      <td>98.14</td>\n",
       "    </tr>\n",
       "    <tr>\n",
       "      <th>1</th>\n",
       "      <td>9374 Jasmine Spurs Suite 508\\nSouth John, TN 8...</td>\n",
       "      <td>28 rn</td>\n",
       "      <td>PM</td>\n",
       "      <td>Opera/8.93.(Windows 98; Win 9x 4.90; en-US) Pr...</td>\n",
       "      <td>Fletcher, Richards and Whitaker</td>\n",
       "      <td>3337758169645356</td>\n",
       "      <td>11/18</td>\n",
       "      <td>561</td>\n",
       "      <td>Mastercard</td>\n",
       "      <td>anthony41@reed.com</td>\n",
       "      <td>Drilling engineer</td>\n",
       "      <td>15.160.41.51</td>\n",
       "      <td>fr</td>\n",
       "      <td>70.73</td>\n",
       "    </tr>\n",
       "    <tr>\n",
       "      <th>2</th>\n",
       "      <td>Unit 0065 Box 5052\\nDPO AP 27450</td>\n",
       "      <td>94 vE</td>\n",
       "      <td>PM</td>\n",
       "      <td>Mozilla/5.0 (compatible; MSIE 9.0; Windows NT ...</td>\n",
       "      <td>Simpson, Williams and Pham</td>\n",
       "      <td>675957666125</td>\n",
       "      <td>08/19</td>\n",
       "      <td>699</td>\n",
       "      <td>JCB 16 digit</td>\n",
       "      <td>amymiller@morales-harrison.com</td>\n",
       "      <td>Customer service manager</td>\n",
       "      <td>132.207.160.22</td>\n",
       "      <td>de</td>\n",
       "      <td>0.95</td>\n",
       "    </tr>\n",
       "    <tr>\n",
       "      <th>3</th>\n",
       "      <td>7780 Julia Fords\\nNew Stacy, WA 45798</td>\n",
       "      <td>36 vm</td>\n",
       "      <td>PM</td>\n",
       "      <td>Mozilla/5.0 (Macintosh; Intel Mac OS X 10_8_0 ...</td>\n",
       "      <td>Williams, Marshall and Buchanan</td>\n",
       "      <td>6011578504430710</td>\n",
       "      <td>02/24</td>\n",
       "      <td>384</td>\n",
       "      <td>Discover</td>\n",
       "      <td>brent16@olson-robinson.info</td>\n",
       "      <td>Drilling engineer</td>\n",
       "      <td>30.250.74.19</td>\n",
       "      <td>es</td>\n",
       "      <td>78.04</td>\n",
       "    </tr>\n",
       "    <tr>\n",
       "      <th>4</th>\n",
       "      <td>23012 Munoz Drive Suite 337\\nNew Cynthia, TX 5...</td>\n",
       "      <td>20 IE</td>\n",
       "      <td>AM</td>\n",
       "      <td>Opera/9.58.(X11; Linux x86_64; it-IT) Presto/2...</td>\n",
       "      <td>Brown, Watson and Andrews</td>\n",
       "      <td>6011456623207998</td>\n",
       "      <td>10/25</td>\n",
       "      <td>678</td>\n",
       "      <td>Diners Club / Carte Blanche</td>\n",
       "      <td>christopherwright@gmail.com</td>\n",
       "      <td>Fine artist</td>\n",
       "      <td>24.140.33.94</td>\n",
       "      <td>es</td>\n",
       "      <td>77.82</td>\n",
       "    </tr>\n",
       "    <tr>\n",
       "      <th>...</th>\n",
       "      <td>...</td>\n",
       "      <td>...</td>\n",
       "      <td>...</td>\n",
       "      <td>...</td>\n",
       "      <td>...</td>\n",
       "      <td>...</td>\n",
       "      <td>...</td>\n",
       "      <td>...</td>\n",
       "      <td>...</td>\n",
       "      <td>...</td>\n",
       "      <td>...</td>\n",
       "      <td>...</td>\n",
       "      <td>...</td>\n",
       "      <td>...</td>\n",
       "    </tr>\n",
       "    <tr>\n",
       "      <th>3807</th>\n",
       "      <td>48419 James Villages\\nCharlesside, MN 05281</td>\n",
       "      <td>16 Od</td>\n",
       "      <td>PM</td>\n",
       "      <td>Mozilla/5.0 (iPod; U; CPU iPhone OS 3_0 like M...</td>\n",
       "      <td>Gray Group</td>\n",
       "      <td>3158950215096082</td>\n",
       "      <td>02/17</td>\n",
       "      <td>42</td>\n",
       "      <td>American Express</td>\n",
       "      <td>conniemyers@dixon-hoover.biz</td>\n",
       "      <td>Plant breeder/geneticist</td>\n",
       "      <td>185.183.203.158</td>\n",
       "      <td>es</td>\n",
       "      <td>70.32</td>\n",
       "    </tr>\n",
       "    <tr>\n",
       "      <th>3808</th>\n",
       "      <td>41420 Morgan Square\\nNew Sylviaton, NH 91906</td>\n",
       "      <td>04 lg</td>\n",
       "      <td>AM</td>\n",
       "      <td>Mozilla/5.0 (iPod; U; CPU iPhone OS 4_3 like M...</td>\n",
       "      <td>Sanchez-Pugh</td>\n",
       "      <td>30144466817368</td>\n",
       "      <td>02/24</td>\n",
       "      <td>660</td>\n",
       "      <td>Maestro</td>\n",
       "      <td>bradleywilliam@pineda-buchanan.com</td>\n",
       "      <td>Environmental health practitioner</td>\n",
       "      <td>20.125.230.98</td>\n",
       "      <td>pt</td>\n",
       "      <td>8.30</td>\n",
       "    </tr>\n",
       "    <tr>\n",
       "      <th>3809</th>\n",
       "      <td>308 Dixon Fords Suite 923\\nNicoleton, MH 45145</td>\n",
       "      <td>52 YN</td>\n",
       "      <td>AM</td>\n",
       "      <td>Mozilla/5.0 (Macintosh; Intel Mac OS X 10_7_8)...</td>\n",
       "      <td>Graham, Walker and Frazier</td>\n",
       "      <td>869929666344262</td>\n",
       "      <td>04/24</td>\n",
       "      <td>262</td>\n",
       "      <td>JCB 16 digit</td>\n",
       "      <td>laurengill@hotmail.com</td>\n",
       "      <td>Hotel manager</td>\n",
       "      <td>206.199.193.146</td>\n",
       "      <td>fr</td>\n",
       "      <td>3.73</td>\n",
       "    </tr>\n",
       "    <tr>\n",
       "      <th>3810</th>\n",
       "      <td>7016 Richard Center Apt. 216\\nNew Paulburgh, C...</td>\n",
       "      <td>53 WU</td>\n",
       "      <td>AM</td>\n",
       "      <td>Mozilla/5.0 (Macintosh; PPC Mac OS X 10_8_4; r...</td>\n",
       "      <td>Kim, Harris and Lee</td>\n",
       "      <td>3528700667851234</td>\n",
       "      <td>11/18</td>\n",
       "      <td>435</td>\n",
       "      <td>American Express</td>\n",
       "      <td>balljessica@yahoo.com</td>\n",
       "      <td>Engineer, communications</td>\n",
       "      <td>33.68.160.144</td>\n",
       "      <td>zh</td>\n",
       "      <td>49.73</td>\n",
       "    </tr>\n",
       "    <tr>\n",
       "      <th>3811</th>\n",
       "      <td>625 Mclaughlin Inlet Apt. 375\\nSouth Ruben, CO...</td>\n",
       "      <td>94 he</td>\n",
       "      <td>PM</td>\n",
       "      <td>Mozilla/5.0 (compatible; MSIE 9.0; Windows CE;...</td>\n",
       "      <td>Banks Group</td>\n",
       "      <td>869974335345498</td>\n",
       "      <td>01/22</td>\n",
       "      <td>457</td>\n",
       "      <td>Voyager</td>\n",
       "      <td>simmonsmelanie@gmail.com</td>\n",
       "      <td>Multimedia specialist</td>\n",
       "      <td>88.14.181.</td>\n",
       "      <td>NaN</td>\n",
       "      <td>NaN</td>\n",
       "    </tr>\n",
       "  </tbody>\n",
       "</table>\n",
       "<p>3812 rows × 14 columns</p>\n",
       "</div>"
      ],
      "text/plain": [
       "                                                Address    Lot AM or PM  \\\n",
       "0     16629 Pace Camp Apt. 448\\nAlexisborough, NE 77...  46 in       PM   \n",
       "1     9374 Jasmine Spurs Suite 508\\nSouth John, TN 8...  28 rn       PM   \n",
       "2                      Unit 0065 Box 5052\\nDPO AP 27450  94 vE       PM   \n",
       "3                 7780 Julia Fords\\nNew Stacy, WA 45798  36 vm       PM   \n",
       "4     23012 Munoz Drive Suite 337\\nNew Cynthia, TX 5...  20 IE       AM   \n",
       "...                                                 ...    ...      ...   \n",
       "3807        48419 James Villages\\nCharlesside, MN 05281  16 Od       PM   \n",
       "3808       41420 Morgan Square\\nNew Sylviaton, NH 91906  04 lg       AM   \n",
       "3809     308 Dixon Fords Suite 923\\nNicoleton, MH 45145  52 YN       AM   \n",
       "3810  7016 Richard Center Apt. 216\\nNew Paulburgh, C...  53 WU       AM   \n",
       "3811  625 Mclaughlin Inlet Apt. 375\\nSouth Ruben, CO...  94 he       PM   \n",
       "\n",
       "                                           Browser Info  \\\n",
       "0     Opera/9.56.(X11; Linux x86_64; sl-SI) Presto/2...   \n",
       "1     Opera/8.93.(Windows 98; Win 9x 4.90; en-US) Pr...   \n",
       "2     Mozilla/5.0 (compatible; MSIE 9.0; Windows NT ...   \n",
       "3     Mozilla/5.0 (Macintosh; Intel Mac OS X 10_8_0 ...   \n",
       "4     Opera/9.58.(X11; Linux x86_64; it-IT) Presto/2...   \n",
       "...                                                 ...   \n",
       "3807  Mozilla/5.0 (iPod; U; CPU iPhone OS 3_0 like M...   \n",
       "3808  Mozilla/5.0 (iPod; U; CPU iPhone OS 4_3 like M...   \n",
       "3809  Mozilla/5.0 (Macintosh; Intel Mac OS X 10_7_8)...   \n",
       "3810  Mozilla/5.0 (Macintosh; PPC Mac OS X 10_8_4; r...   \n",
       "3811  Mozilla/5.0 (compatible; MSIE 9.0; Windows CE;...   \n",
       "\n",
       "                              Company       Credit Card CC Exp Date  \\\n",
       "0                     Martinez-Herman  6011929061123406       02/20   \n",
       "1     Fletcher, Richards and Whitaker  3337758169645356       11/18   \n",
       "2          Simpson, Williams and Pham      675957666125       08/19   \n",
       "3     Williams, Marshall and Buchanan  6011578504430710       02/24   \n",
       "4           Brown, Watson and Andrews  6011456623207998       10/25   \n",
       "...                               ...               ...         ...   \n",
       "3807                       Gray Group  3158950215096082       02/17   \n",
       "3808                     Sanchez-Pugh    30144466817368       02/24   \n",
       "3809       Graham, Walker and Frazier   869929666344262       04/24   \n",
       "3810              Kim, Harris and Lee  3528700667851234       11/18   \n",
       "3811                      Banks Group   869974335345498       01/22   \n",
       "\n",
       "      CC Security Code                  CC Provider  \\\n",
       "0                  900                 JCB 16 digit   \n",
       "1                  561                   Mastercard   \n",
       "2                  699                 JCB 16 digit   \n",
       "3                  384                     Discover   \n",
       "4                  678  Diners Club / Carte Blanche   \n",
       "...                ...                          ...   \n",
       "3807                42             American Express   \n",
       "3808               660                      Maestro   \n",
       "3809               262                 JCB 16 digit   \n",
       "3810               435             American Express   \n",
       "3811               457                      Voyager   \n",
       "\n",
       "                                   Email  \\\n",
       "0                      pdunlap@yahoo.com   \n",
       "1                     anthony41@reed.com   \n",
       "2         amymiller@morales-harrison.com   \n",
       "3            brent16@olson-robinson.info   \n",
       "4            christopherwright@gmail.com   \n",
       "...                                  ...   \n",
       "3807        conniemyers@dixon-hoover.biz   \n",
       "3808  bradleywilliam@pineda-buchanan.com   \n",
       "3809              laurengill@hotmail.com   \n",
       "3810               balljessica@yahoo.com   \n",
       "3811            simmonsmelanie@gmail.com   \n",
       "\n",
       "                                         Job       IP Address Language  \\\n",
       "0     Scientist, product/process development  149.146.147.205       el   \n",
       "1                          Drilling engineer     15.160.41.51       fr   \n",
       "2                   Customer service manager   132.207.160.22       de   \n",
       "3                          Drilling engineer     30.250.74.19       es   \n",
       "4                                Fine artist     24.140.33.94       es   \n",
       "...                                      ...              ...      ...   \n",
       "3807                Plant breeder/geneticist  185.183.203.158       es   \n",
       "3808       Environmental health practitioner    20.125.230.98       pt   \n",
       "3809                           Hotel manager  206.199.193.146       fr   \n",
       "3810                Engineer, communications    33.68.160.144       zh   \n",
       "3811                   Multimedia specialist       88.14.181.      NaN   \n",
       "\n",
       "      Purchase Price  \n",
       "0              98.14  \n",
       "1              70.73  \n",
       "2               0.95  \n",
       "3              78.04  \n",
       "4              77.82  \n",
       "...              ...  \n",
       "3807           70.32  \n",
       "3808            8.30  \n",
       "3809            3.73  \n",
       "3810           49.73  \n",
       "3811             NaN  \n",
       "\n",
       "[3812 rows x 14 columns]"
      ]
     },
     "execution_count": 2,
     "metadata": {},
     "output_type": "execute_result"
    }
   ],
   "source": [
    "data = pd.read_csv('Ecommerce Purchases')\n",
    "data"
   ]
  },
  {
   "cell_type": "markdown",
   "id": "4da3c5f8-a273-42db-8355-353c99487c3a",
   "metadata": {},
   "source": [
    "# 1. Display Top 10 Rows of the Dataset"
   ]
  },
  {
   "cell_type": "code",
   "execution_count": 5,
   "id": "d3197006-5c97-430b-b6b5-b574b320a0b5",
   "metadata": {},
   "outputs": [
    {
     "data": {
      "text/html": [
       "<div>\n",
       "<style scoped>\n",
       "    .dataframe tbody tr th:only-of-type {\n",
       "        vertical-align: middle;\n",
       "    }\n",
       "\n",
       "    .dataframe tbody tr th {\n",
       "        vertical-align: top;\n",
       "    }\n",
       "\n",
       "    .dataframe thead th {\n",
       "        text-align: right;\n",
       "    }\n",
       "</style>\n",
       "<table border=\"1\" class=\"dataframe\">\n",
       "  <thead>\n",
       "    <tr style=\"text-align: right;\">\n",
       "      <th></th>\n",
       "      <th>Address</th>\n",
       "      <th>Lot</th>\n",
       "      <th>AM or PM</th>\n",
       "      <th>Browser Info</th>\n",
       "      <th>Company</th>\n",
       "      <th>Credit Card</th>\n",
       "      <th>CC Exp Date</th>\n",
       "      <th>CC Security Code</th>\n",
       "      <th>CC Provider</th>\n",
       "      <th>Email</th>\n",
       "      <th>Job</th>\n",
       "      <th>IP Address</th>\n",
       "      <th>Language</th>\n",
       "      <th>Purchase Price</th>\n",
       "    </tr>\n",
       "  </thead>\n",
       "  <tbody>\n",
       "    <tr>\n",
       "      <th>0</th>\n",
       "      <td>16629 Pace Camp Apt. 448\\nAlexisborough, NE 77...</td>\n",
       "      <td>46 in</td>\n",
       "      <td>PM</td>\n",
       "      <td>Opera/9.56.(X11; Linux x86_64; sl-SI) Presto/2...</td>\n",
       "      <td>Martinez-Herman</td>\n",
       "      <td>6011929061123406</td>\n",
       "      <td>02/20</td>\n",
       "      <td>900</td>\n",
       "      <td>JCB 16 digit</td>\n",
       "      <td>pdunlap@yahoo.com</td>\n",
       "      <td>Scientist, product/process development</td>\n",
       "      <td>149.146.147.205</td>\n",
       "      <td>el</td>\n",
       "      <td>98.14</td>\n",
       "    </tr>\n",
       "    <tr>\n",
       "      <th>1</th>\n",
       "      <td>9374 Jasmine Spurs Suite 508\\nSouth John, TN 8...</td>\n",
       "      <td>28 rn</td>\n",
       "      <td>PM</td>\n",
       "      <td>Opera/8.93.(Windows 98; Win 9x 4.90; en-US) Pr...</td>\n",
       "      <td>Fletcher, Richards and Whitaker</td>\n",
       "      <td>3337758169645356</td>\n",
       "      <td>11/18</td>\n",
       "      <td>561</td>\n",
       "      <td>Mastercard</td>\n",
       "      <td>anthony41@reed.com</td>\n",
       "      <td>Drilling engineer</td>\n",
       "      <td>15.160.41.51</td>\n",
       "      <td>fr</td>\n",
       "      <td>70.73</td>\n",
       "    </tr>\n",
       "    <tr>\n",
       "      <th>2</th>\n",
       "      <td>Unit 0065 Box 5052\\nDPO AP 27450</td>\n",
       "      <td>94 vE</td>\n",
       "      <td>PM</td>\n",
       "      <td>Mozilla/5.0 (compatible; MSIE 9.0; Windows NT ...</td>\n",
       "      <td>Simpson, Williams and Pham</td>\n",
       "      <td>675957666125</td>\n",
       "      <td>08/19</td>\n",
       "      <td>699</td>\n",
       "      <td>JCB 16 digit</td>\n",
       "      <td>amymiller@morales-harrison.com</td>\n",
       "      <td>Customer service manager</td>\n",
       "      <td>132.207.160.22</td>\n",
       "      <td>de</td>\n",
       "      <td>0.95</td>\n",
       "    </tr>\n",
       "    <tr>\n",
       "      <th>3</th>\n",
       "      <td>7780 Julia Fords\\nNew Stacy, WA 45798</td>\n",
       "      <td>36 vm</td>\n",
       "      <td>PM</td>\n",
       "      <td>Mozilla/5.0 (Macintosh; Intel Mac OS X 10_8_0 ...</td>\n",
       "      <td>Williams, Marshall and Buchanan</td>\n",
       "      <td>6011578504430710</td>\n",
       "      <td>02/24</td>\n",
       "      <td>384</td>\n",
       "      <td>Discover</td>\n",
       "      <td>brent16@olson-robinson.info</td>\n",
       "      <td>Drilling engineer</td>\n",
       "      <td>30.250.74.19</td>\n",
       "      <td>es</td>\n",
       "      <td>78.04</td>\n",
       "    </tr>\n",
       "    <tr>\n",
       "      <th>4</th>\n",
       "      <td>23012 Munoz Drive Suite 337\\nNew Cynthia, TX 5...</td>\n",
       "      <td>20 IE</td>\n",
       "      <td>AM</td>\n",
       "      <td>Opera/9.58.(X11; Linux x86_64; it-IT) Presto/2...</td>\n",
       "      <td>Brown, Watson and Andrews</td>\n",
       "      <td>6011456623207998</td>\n",
       "      <td>10/25</td>\n",
       "      <td>678</td>\n",
       "      <td>Diners Club / Carte Blanche</td>\n",
       "      <td>christopherwright@gmail.com</td>\n",
       "      <td>Fine artist</td>\n",
       "      <td>24.140.33.94</td>\n",
       "      <td>es</td>\n",
       "      <td>77.82</td>\n",
       "    </tr>\n",
       "    <tr>\n",
       "      <th>5</th>\n",
       "      <td>7502 Powell Mission Apt. 768\\nTravisland, VA 3...</td>\n",
       "      <td>21 XT</td>\n",
       "      <td>PM</td>\n",
       "      <td>Mozilla/5.0 (Macintosh; U; PPC Mac OS X 10_8_5...</td>\n",
       "      <td>Silva-Anderson</td>\n",
       "      <td>30246185196287</td>\n",
       "      <td>07/25</td>\n",
       "      <td>7169</td>\n",
       "      <td>Discover</td>\n",
       "      <td>ynguyen@gmail.com</td>\n",
       "      <td>Fish farm manager</td>\n",
       "      <td>55.96.152.147</td>\n",
       "      <td>ru</td>\n",
       "      <td>25.15</td>\n",
       "    </tr>\n",
       "    <tr>\n",
       "      <th>6</th>\n",
       "      <td>93971 Conway Causeway\\nAndersonburgh, AZ 75107</td>\n",
       "      <td>96 Xt</td>\n",
       "      <td>AM</td>\n",
       "      <td>Mozilla/5.0 (compatible; MSIE 7.0; Windows NT ...</td>\n",
       "      <td>Gibson and Sons</td>\n",
       "      <td>6011398782655569</td>\n",
       "      <td>07/24</td>\n",
       "      <td>714</td>\n",
       "      <td>VISA 16 digit</td>\n",
       "      <td>olivia04@yahoo.com</td>\n",
       "      <td>Dancer</td>\n",
       "      <td>127.252.144.18</td>\n",
       "      <td>de</td>\n",
       "      <td>88.56</td>\n",
       "    </tr>\n",
       "    <tr>\n",
       "      <th>7</th>\n",
       "      <td>260 Rachel Plains Suite 366\\nCastroberg, WV 24...</td>\n",
       "      <td>96 pG</td>\n",
       "      <td>PM</td>\n",
       "      <td>Mozilla/5.0 (X11; Linux i686) AppleWebKit/5350...</td>\n",
       "      <td>Marshall-Collins</td>\n",
       "      <td>561252141909</td>\n",
       "      <td>06/25</td>\n",
       "      <td>256</td>\n",
       "      <td>VISA 13 digit</td>\n",
       "      <td>phillip48@parks.info</td>\n",
       "      <td>Event organiser</td>\n",
       "      <td>224.247.97.150</td>\n",
       "      <td>pt</td>\n",
       "      <td>44.25</td>\n",
       "    </tr>\n",
       "    <tr>\n",
       "      <th>8</th>\n",
       "      <td>2129 Dylan Burg\\nNew Michelle, ME 28650</td>\n",
       "      <td>45 JN</td>\n",
       "      <td>PM</td>\n",
       "      <td>Mozilla/5.0 (Macintosh; U; Intel Mac OS X 10_7...</td>\n",
       "      <td>Galloway and Sons</td>\n",
       "      <td>180041795790001</td>\n",
       "      <td>04/24</td>\n",
       "      <td>899</td>\n",
       "      <td>JCB 16 digit</td>\n",
       "      <td>kdavis@rasmussen.com</td>\n",
       "      <td>Financial manager</td>\n",
       "      <td>146.234.201.229</td>\n",
       "      <td>ru</td>\n",
       "      <td>59.54</td>\n",
       "    </tr>\n",
       "    <tr>\n",
       "      <th>9</th>\n",
       "      <td>3795 Dawson Extensions\\nLake Tinafort, ID 88739</td>\n",
       "      <td>15 Ug</td>\n",
       "      <td>AM</td>\n",
       "      <td>Mozilla/5.0 (X11; Linux i686; rv:1.9.7.20) Gec...</td>\n",
       "      <td>Rivera, Buchanan and Ramirez</td>\n",
       "      <td>4396283918371</td>\n",
       "      <td>01/17</td>\n",
       "      <td>931</td>\n",
       "      <td>American Express</td>\n",
       "      <td>qcoleman@hunt-huerta.com</td>\n",
       "      <td>Forensic scientist</td>\n",
       "      <td>236.198.199.8</td>\n",
       "      <td>zh</td>\n",
       "      <td>95.63</td>\n",
       "    </tr>\n",
       "  </tbody>\n",
       "</table>\n",
       "</div>"
      ],
      "text/plain": [
       "                                             Address    Lot AM or PM  \\\n",
       "0  16629 Pace Camp Apt. 448\\nAlexisborough, NE 77...  46 in       PM   \n",
       "1  9374 Jasmine Spurs Suite 508\\nSouth John, TN 8...  28 rn       PM   \n",
       "2                   Unit 0065 Box 5052\\nDPO AP 27450  94 vE       PM   \n",
       "3              7780 Julia Fords\\nNew Stacy, WA 45798  36 vm       PM   \n",
       "4  23012 Munoz Drive Suite 337\\nNew Cynthia, TX 5...  20 IE       AM   \n",
       "5  7502 Powell Mission Apt. 768\\nTravisland, VA 3...  21 XT       PM   \n",
       "6     93971 Conway Causeway\\nAndersonburgh, AZ 75107  96 Xt       AM   \n",
       "7  260 Rachel Plains Suite 366\\nCastroberg, WV 24...  96 pG       PM   \n",
       "8            2129 Dylan Burg\\nNew Michelle, ME 28650  45 JN       PM   \n",
       "9    3795 Dawson Extensions\\nLake Tinafort, ID 88739  15 Ug       AM   \n",
       "\n",
       "                                        Browser Info  \\\n",
       "0  Opera/9.56.(X11; Linux x86_64; sl-SI) Presto/2...   \n",
       "1  Opera/8.93.(Windows 98; Win 9x 4.90; en-US) Pr...   \n",
       "2  Mozilla/5.0 (compatible; MSIE 9.0; Windows NT ...   \n",
       "3  Mozilla/5.0 (Macintosh; Intel Mac OS X 10_8_0 ...   \n",
       "4  Opera/9.58.(X11; Linux x86_64; it-IT) Presto/2...   \n",
       "5  Mozilla/5.0 (Macintosh; U; PPC Mac OS X 10_8_5...   \n",
       "6  Mozilla/5.0 (compatible; MSIE 7.0; Windows NT ...   \n",
       "7  Mozilla/5.0 (X11; Linux i686) AppleWebKit/5350...   \n",
       "8  Mozilla/5.0 (Macintosh; U; Intel Mac OS X 10_7...   \n",
       "9  Mozilla/5.0 (X11; Linux i686; rv:1.9.7.20) Gec...   \n",
       "\n",
       "                           Company       Credit Card CC Exp Date  \\\n",
       "0                  Martinez-Herman  6011929061123406       02/20   \n",
       "1  Fletcher, Richards and Whitaker  3337758169645356       11/18   \n",
       "2       Simpson, Williams and Pham      675957666125       08/19   \n",
       "3  Williams, Marshall and Buchanan  6011578504430710       02/24   \n",
       "4        Brown, Watson and Andrews  6011456623207998       10/25   \n",
       "5                   Silva-Anderson    30246185196287       07/25   \n",
       "6                  Gibson and Sons  6011398782655569       07/24   \n",
       "7                 Marshall-Collins      561252141909       06/25   \n",
       "8                Galloway and Sons   180041795790001       04/24   \n",
       "9     Rivera, Buchanan and Ramirez     4396283918371       01/17   \n",
       "\n",
       "   CC Security Code                  CC Provider  \\\n",
       "0               900                 JCB 16 digit   \n",
       "1               561                   Mastercard   \n",
       "2               699                 JCB 16 digit   \n",
       "3               384                     Discover   \n",
       "4               678  Diners Club / Carte Blanche   \n",
       "5              7169                     Discover   \n",
       "6               714                VISA 16 digit   \n",
       "7               256                VISA 13 digit   \n",
       "8               899                 JCB 16 digit   \n",
       "9               931             American Express   \n",
       "\n",
       "                            Email                                     Job  \\\n",
       "0               pdunlap@yahoo.com  Scientist, product/process development   \n",
       "1              anthony41@reed.com                       Drilling engineer   \n",
       "2  amymiller@morales-harrison.com                Customer service manager   \n",
       "3     brent16@olson-robinson.info                       Drilling engineer   \n",
       "4     christopherwright@gmail.com                             Fine artist   \n",
       "5               ynguyen@gmail.com                       Fish farm manager   \n",
       "6              olivia04@yahoo.com                                  Dancer   \n",
       "7            phillip48@parks.info                         Event organiser   \n",
       "8            kdavis@rasmussen.com                       Financial manager   \n",
       "9        qcoleman@hunt-huerta.com                      Forensic scientist   \n",
       "\n",
       "        IP Address Language  Purchase Price  \n",
       "0  149.146.147.205       el           98.14  \n",
       "1     15.160.41.51       fr           70.73  \n",
       "2   132.207.160.22       de            0.95  \n",
       "3     30.250.74.19       es           78.04  \n",
       "4     24.140.33.94       es           77.82  \n",
       "5    55.96.152.147       ru           25.15  \n",
       "6   127.252.144.18       de           88.56  \n",
       "7   224.247.97.150       pt           44.25  \n",
       "8  146.234.201.229       ru           59.54  \n",
       "9    236.198.199.8       zh           95.63  "
      ]
     },
     "execution_count": 5,
     "metadata": {},
     "output_type": "execute_result"
    }
   ],
   "source": [
    "data.head(10)"
   ]
  },
  {
   "cell_type": "markdown",
   "id": "c9d634fa-3f7e-4f2f-9afe-d4ae86de43df",
   "metadata": {},
   "source": [
    "# 2. Check Last 10 Rows of the Dataset"
   ]
  },
  {
   "cell_type": "code",
   "execution_count": 7,
   "id": "f20419e9-89e7-4f6b-a784-e756c446c5d2",
   "metadata": {},
   "outputs": [
    {
     "data": {
      "text/html": [
       "<div>\n",
       "<style scoped>\n",
       "    .dataframe tbody tr th:only-of-type {\n",
       "        vertical-align: middle;\n",
       "    }\n",
       "\n",
       "    .dataframe tbody tr th {\n",
       "        vertical-align: top;\n",
       "    }\n",
       "\n",
       "    .dataframe thead th {\n",
       "        text-align: right;\n",
       "    }\n",
       "</style>\n",
       "<table border=\"1\" class=\"dataframe\">\n",
       "  <thead>\n",
       "    <tr style=\"text-align: right;\">\n",
       "      <th></th>\n",
       "      <th>Address</th>\n",
       "      <th>Lot</th>\n",
       "      <th>AM or PM</th>\n",
       "      <th>Browser Info</th>\n",
       "      <th>Company</th>\n",
       "      <th>Credit Card</th>\n",
       "      <th>CC Exp Date</th>\n",
       "      <th>CC Security Code</th>\n",
       "      <th>CC Provider</th>\n",
       "      <th>Email</th>\n",
       "      <th>Job</th>\n",
       "      <th>IP Address</th>\n",
       "      <th>Language</th>\n",
       "      <th>Purchase Price</th>\n",
       "    </tr>\n",
       "  </thead>\n",
       "  <tbody>\n",
       "    <tr>\n",
       "      <th>3802</th>\n",
       "      <td>0843 Bobby Port\\nGordonbury, VT 23015-8557</td>\n",
       "      <td>57 sr</td>\n",
       "      <td>AM</td>\n",
       "      <td>Mozilla/5.0 (Macintosh; U; PPC Mac OS X 10_5_4...</td>\n",
       "      <td>Cruz PLC</td>\n",
       "      <td>6011081720218290</td>\n",
       "      <td>08/19</td>\n",
       "      <td>475</td>\n",
       "      <td>JCB 16 digit</td>\n",
       "      <td>tiffanylong@alvarez-frey.com</td>\n",
       "      <td>Sales executive</td>\n",
       "      <td>238.205.226.100</td>\n",
       "      <td>it</td>\n",
       "      <td>1.30</td>\n",
       "    </tr>\n",
       "    <tr>\n",
       "      <th>3803</th>\n",
       "      <td>92679 Brown Parks\\nEast Jason, IA 85954</td>\n",
       "      <td>53 lx</td>\n",
       "      <td>AM</td>\n",
       "      <td>Mozilla/5.0 (Macintosh; PPC Mac OS X 10_8_4; r...</td>\n",
       "      <td>Ward Inc</td>\n",
       "      <td>347812781765342</td>\n",
       "      <td>11/23</td>\n",
       "      <td>724</td>\n",
       "      <td>VISA 16 digit</td>\n",
       "      <td>vickistafford@hanson.net</td>\n",
       "      <td>Fisheries officer</td>\n",
       "      <td>191.111.91.133</td>\n",
       "      <td>ru</td>\n",
       "      <td>1.20</td>\n",
       "    </tr>\n",
       "    <tr>\n",
       "      <th>3804</th>\n",
       "      <td>76678 Melissa Track\\nSnowville, MP 02252</td>\n",
       "      <td>20 HG</td>\n",
       "      <td>AM</td>\n",
       "      <td>Mozilla/5.0 (Macintosh; Intel Mac OS X 10_6_5 ...</td>\n",
       "      <td>Meyer-Howe</td>\n",
       "      <td>675940649469</td>\n",
       "      <td>01/19</td>\n",
       "      <td>209</td>\n",
       "      <td>American Express</td>\n",
       "      <td>andrew41@coffey.org</td>\n",
       "      <td>Hydrologist</td>\n",
       "      <td>152.125.105.87</td>\n",
       "      <td>it</td>\n",
       "      <td>37.53</td>\n",
       "    </tr>\n",
       "    <tr>\n",
       "      <th>3805</th>\n",
       "      <td>USNS Anderson\\nFPO AP 85662-4006</td>\n",
       "      <td>65 vG</td>\n",
       "      <td>PM</td>\n",
       "      <td>Mozilla/5.0 (Windows; U; Windows NT 5.0) Apple...</td>\n",
       "      <td>York-Baker</td>\n",
       "      <td>630486483286</td>\n",
       "      <td>03/20</td>\n",
       "      <td>992</td>\n",
       "      <td>JCB 16 digit</td>\n",
       "      <td>xryan@coffey-gordon.com</td>\n",
       "      <td>Engineer, maintenance (IT)</td>\n",
       "      <td>188.203.215.48</td>\n",
       "      <td>es</td>\n",
       "      <td>76.10</td>\n",
       "    </tr>\n",
       "    <tr>\n",
       "      <th>3806</th>\n",
       "      <td>6598 Chad Extensions\\nNorristown, TX 53321</td>\n",
       "      <td>49 GN</td>\n",
       "      <td>AM</td>\n",
       "      <td>Mozilla/5.0 (Windows; U; Windows NT 5.01) Appl...</td>\n",
       "      <td>Ho LLC</td>\n",
       "      <td>3088701630877605</td>\n",
       "      <td>10/17</td>\n",
       "      <td>865</td>\n",
       "      <td>Voyager</td>\n",
       "      <td>nspence@davis-cruz.com</td>\n",
       "      <td>Psychiatric nurse</td>\n",
       "      <td>126.220.202.8</td>\n",
       "      <td>es</td>\n",
       "      <td>29.56</td>\n",
       "    </tr>\n",
       "    <tr>\n",
       "      <th>3807</th>\n",
       "      <td>48419 James Villages\\nCharlesside, MN 05281</td>\n",
       "      <td>16 Od</td>\n",
       "      <td>PM</td>\n",
       "      <td>Mozilla/5.0 (iPod; U; CPU iPhone OS 3_0 like M...</td>\n",
       "      <td>Gray Group</td>\n",
       "      <td>3158950215096082</td>\n",
       "      <td>02/17</td>\n",
       "      <td>42</td>\n",
       "      <td>American Express</td>\n",
       "      <td>conniemyers@dixon-hoover.biz</td>\n",
       "      <td>Plant breeder/geneticist</td>\n",
       "      <td>185.183.203.158</td>\n",
       "      <td>es</td>\n",
       "      <td>70.32</td>\n",
       "    </tr>\n",
       "    <tr>\n",
       "      <th>3808</th>\n",
       "      <td>41420 Morgan Square\\nNew Sylviaton, NH 91906</td>\n",
       "      <td>04 lg</td>\n",
       "      <td>AM</td>\n",
       "      <td>Mozilla/5.0 (iPod; U; CPU iPhone OS 4_3 like M...</td>\n",
       "      <td>Sanchez-Pugh</td>\n",
       "      <td>30144466817368</td>\n",
       "      <td>02/24</td>\n",
       "      <td>660</td>\n",
       "      <td>Maestro</td>\n",
       "      <td>bradleywilliam@pineda-buchanan.com</td>\n",
       "      <td>Environmental health practitioner</td>\n",
       "      <td>20.125.230.98</td>\n",
       "      <td>pt</td>\n",
       "      <td>8.30</td>\n",
       "    </tr>\n",
       "    <tr>\n",
       "      <th>3809</th>\n",
       "      <td>308 Dixon Fords Suite 923\\nNicoleton, MH 45145</td>\n",
       "      <td>52 YN</td>\n",
       "      <td>AM</td>\n",
       "      <td>Mozilla/5.0 (Macintosh; Intel Mac OS X 10_7_8)...</td>\n",
       "      <td>Graham, Walker and Frazier</td>\n",
       "      <td>869929666344262</td>\n",
       "      <td>04/24</td>\n",
       "      <td>262</td>\n",
       "      <td>JCB 16 digit</td>\n",
       "      <td>laurengill@hotmail.com</td>\n",
       "      <td>Hotel manager</td>\n",
       "      <td>206.199.193.146</td>\n",
       "      <td>fr</td>\n",
       "      <td>3.73</td>\n",
       "    </tr>\n",
       "    <tr>\n",
       "      <th>3810</th>\n",
       "      <td>7016 Richard Center Apt. 216\\nNew Paulburgh, C...</td>\n",
       "      <td>53 WU</td>\n",
       "      <td>AM</td>\n",
       "      <td>Mozilla/5.0 (Macintosh; PPC Mac OS X 10_8_4; r...</td>\n",
       "      <td>Kim, Harris and Lee</td>\n",
       "      <td>3528700667851234</td>\n",
       "      <td>11/18</td>\n",
       "      <td>435</td>\n",
       "      <td>American Express</td>\n",
       "      <td>balljessica@yahoo.com</td>\n",
       "      <td>Engineer, communications</td>\n",
       "      <td>33.68.160.144</td>\n",
       "      <td>zh</td>\n",
       "      <td>49.73</td>\n",
       "    </tr>\n",
       "    <tr>\n",
       "      <th>3811</th>\n",
       "      <td>625 Mclaughlin Inlet Apt. 375\\nSouth Ruben, CO...</td>\n",
       "      <td>94 he</td>\n",
       "      <td>PM</td>\n",
       "      <td>Mozilla/5.0 (compatible; MSIE 9.0; Windows CE;...</td>\n",
       "      <td>Banks Group</td>\n",
       "      <td>869974335345498</td>\n",
       "      <td>01/22</td>\n",
       "      <td>457</td>\n",
       "      <td>Voyager</td>\n",
       "      <td>simmonsmelanie@gmail.com</td>\n",
       "      <td>Multimedia specialist</td>\n",
       "      <td>88.14.181.</td>\n",
       "      <td>NaN</td>\n",
       "      <td>NaN</td>\n",
       "    </tr>\n",
       "  </tbody>\n",
       "</table>\n",
       "</div>"
      ],
      "text/plain": [
       "                                                Address    Lot AM or PM  \\\n",
       "3802         0843 Bobby Port\\nGordonbury, VT 23015-8557  57 sr       AM   \n",
       "3803            92679 Brown Parks\\nEast Jason, IA 85954  53 lx       AM   \n",
       "3804           76678 Melissa Track\\nSnowville, MP 02252  20 HG       AM   \n",
       "3805                   USNS Anderson\\nFPO AP 85662-4006  65 vG       PM   \n",
       "3806         6598 Chad Extensions\\nNorristown, TX 53321  49 GN       AM   \n",
       "3807        48419 James Villages\\nCharlesside, MN 05281  16 Od       PM   \n",
       "3808       41420 Morgan Square\\nNew Sylviaton, NH 91906  04 lg       AM   \n",
       "3809     308 Dixon Fords Suite 923\\nNicoleton, MH 45145  52 YN       AM   \n",
       "3810  7016 Richard Center Apt. 216\\nNew Paulburgh, C...  53 WU       AM   \n",
       "3811  625 Mclaughlin Inlet Apt. 375\\nSouth Ruben, CO...  94 he       PM   \n",
       "\n",
       "                                           Browser Info  \\\n",
       "3802  Mozilla/5.0 (Macintosh; U; PPC Mac OS X 10_5_4...   \n",
       "3803  Mozilla/5.0 (Macintosh; PPC Mac OS X 10_8_4; r...   \n",
       "3804  Mozilla/5.0 (Macintosh; Intel Mac OS X 10_6_5 ...   \n",
       "3805  Mozilla/5.0 (Windows; U; Windows NT 5.0) Apple...   \n",
       "3806  Mozilla/5.0 (Windows; U; Windows NT 5.01) Appl...   \n",
       "3807  Mozilla/5.0 (iPod; U; CPU iPhone OS 3_0 like M...   \n",
       "3808  Mozilla/5.0 (iPod; U; CPU iPhone OS 4_3 like M...   \n",
       "3809  Mozilla/5.0 (Macintosh; Intel Mac OS X 10_7_8)...   \n",
       "3810  Mozilla/5.0 (Macintosh; PPC Mac OS X 10_8_4; r...   \n",
       "3811  Mozilla/5.0 (compatible; MSIE 9.0; Windows CE;...   \n",
       "\n",
       "                         Company       Credit Card CC Exp Date  \\\n",
       "3802                    Cruz PLC  6011081720218290       08/19   \n",
       "3803                    Ward Inc   347812781765342       11/23   \n",
       "3804                  Meyer-Howe      675940649469       01/19   \n",
       "3805                  York-Baker      630486483286       03/20   \n",
       "3806                      Ho LLC  3088701630877605       10/17   \n",
       "3807                  Gray Group  3158950215096082       02/17   \n",
       "3808                Sanchez-Pugh    30144466817368       02/24   \n",
       "3809  Graham, Walker and Frazier   869929666344262       04/24   \n",
       "3810         Kim, Harris and Lee  3528700667851234       11/18   \n",
       "3811                 Banks Group   869974335345498       01/22   \n",
       "\n",
       "      CC Security Code       CC Provider                               Email  \\\n",
       "3802               475      JCB 16 digit        tiffanylong@alvarez-frey.com   \n",
       "3803               724     VISA 16 digit            vickistafford@hanson.net   \n",
       "3804               209  American Express                 andrew41@coffey.org   \n",
       "3805               992      JCB 16 digit             xryan@coffey-gordon.com   \n",
       "3806               865           Voyager              nspence@davis-cruz.com   \n",
       "3807                42  American Express        conniemyers@dixon-hoover.biz   \n",
       "3808               660           Maestro  bradleywilliam@pineda-buchanan.com   \n",
       "3809               262      JCB 16 digit              laurengill@hotmail.com   \n",
       "3810               435  American Express               balljessica@yahoo.com   \n",
       "3811               457           Voyager            simmonsmelanie@gmail.com   \n",
       "\n",
       "                                    Job       IP Address Language  \\\n",
       "3802                    Sales executive  238.205.226.100       it   \n",
       "3803                  Fisheries officer   191.111.91.133       ru   \n",
       "3804                        Hydrologist   152.125.105.87       it   \n",
       "3805         Engineer, maintenance (IT)   188.203.215.48       es   \n",
       "3806                  Psychiatric nurse    126.220.202.8       es   \n",
       "3807           Plant breeder/geneticist  185.183.203.158       es   \n",
       "3808  Environmental health practitioner    20.125.230.98       pt   \n",
       "3809                      Hotel manager  206.199.193.146       fr   \n",
       "3810           Engineer, communications    33.68.160.144       zh   \n",
       "3811              Multimedia specialist       88.14.181.      NaN   \n",
       "\n",
       "      Purchase Price  \n",
       "3802            1.30  \n",
       "3803            1.20  \n",
       "3804           37.53  \n",
       "3805           76.10  \n",
       "3806           29.56  \n",
       "3807           70.32  \n",
       "3808            8.30  \n",
       "3809            3.73  \n",
       "3810           49.73  \n",
       "3811             NaN  "
      ]
     },
     "execution_count": 7,
     "metadata": {},
     "output_type": "execute_result"
    }
   ],
   "source": [
    "data.tail(10)"
   ]
  },
  {
   "cell_type": "markdown",
   "id": "423ba65e-89f3-420f-9b80-d1dfe819c5d1",
   "metadata": {},
   "source": [
    "# 3. Check Datatype of Each column"
   ]
  },
  {
   "cell_type": "code",
   "execution_count": 8,
   "id": "4345ce3c-d080-49c0-a27a-9f1ac1b413c4",
   "metadata": {},
   "outputs": [
    {
     "data": {
      "text/plain": [
       "Address              object\n",
       "Lot                  object\n",
       "AM or PM             object\n",
       "Browser Info         object\n",
       "Company              object\n",
       "Credit Card           int64\n",
       "CC Exp Date          object\n",
       "CC Security Code      int64\n",
       "CC Provider          object\n",
       "Email                object\n",
       "Job                  object\n",
       "IP Address           object\n",
       "Language             object\n",
       "Purchase Price      float64\n",
       "dtype: object"
      ]
     },
     "execution_count": 8,
     "metadata": {},
     "output_type": "execute_result"
    }
   ],
   "source": [
    "data.dtypes"
   ]
  },
  {
   "cell_type": "markdown",
   "id": "e2ba4b71-a043-492a-b31c-aa718de1b568",
   "metadata": {},
   "source": [
    "# 4. Check Null Values in the dataset"
   ]
  },
  {
   "cell_type": "code",
   "execution_count": 10,
   "id": "69025d15-b865-46ef-b5df-09d4dc5e93ee",
   "metadata": {},
   "outputs": [
    {
     "data": {
      "text/plain": [
       "Address             0\n",
       "Lot                 0\n",
       "AM or PM            0\n",
       "Browser Info        0\n",
       "Company             0\n",
       "Credit Card         0\n",
       "CC Exp Date         0\n",
       "CC Security Code    0\n",
       "CC Provider         0\n",
       "Email               0\n",
       "Job                 0\n",
       "IP Address          0\n",
       "Language            1\n",
       "Purchase Price      1\n",
       "dtype: int64"
      ]
     },
     "execution_count": 10,
     "metadata": {},
     "output_type": "execute_result"
    }
   ],
   "source": [
    "data.isnull().sum()"
   ]
  },
  {
   "cell_type": "markdown",
   "id": "f8eab81e-c32a-49e7-b005-a3d0ea034e3e",
   "metadata": {},
   "source": [
    "# 5. How many rows and columns are there in our dataset?"
   ]
  },
  {
   "cell_type": "code",
   "execution_count": 12,
   "id": "72db9a7d-8af9-49e9-905a-91b2dba1807b",
   "metadata": {},
   "outputs": [
    {
     "data": {
      "text/plain": [
       "14"
      ]
     },
     "execution_count": 12,
     "metadata": {},
     "output_type": "execute_result"
    }
   ],
   "source": [
    "len(data.columns)"
   ]
  },
  {
   "cell_type": "code",
   "execution_count": 13,
   "id": "b25d88ae-9b7e-4ed3-9b54-e4c6d1440f8c",
   "metadata": {},
   "outputs": [
    {
     "data": {
      "text/plain": [
       "3812"
      ]
     },
     "execution_count": 13,
     "metadata": {},
     "output_type": "execute_result"
    }
   ],
   "source": [
    "len(data)"
   ]
  },
  {
   "cell_type": "code",
   "execution_count": 14,
   "id": "cbb43b93-85eb-40d2-9a8f-0b0f7939bbc9",
   "metadata": {},
   "outputs": [
    {
     "name": "stdout",
     "output_type": "stream",
     "text": [
      "<class 'pandas.core.frame.DataFrame'>\n",
      "RangeIndex: 3812 entries, 0 to 3811\n",
      "Data columns (total 14 columns):\n",
      " #   Column            Non-Null Count  Dtype  \n",
      "---  ------            --------------  -----  \n",
      " 0   Address           3812 non-null   object \n",
      " 1   Lot               3812 non-null   object \n",
      " 2   AM or PM          3812 non-null   object \n",
      " 3   Browser Info      3812 non-null   object \n",
      " 4   Company           3812 non-null   object \n",
      " 5   Credit Card       3812 non-null   int64  \n",
      " 6   CC Exp Date       3812 non-null   object \n",
      " 7   CC Security Code  3812 non-null   int64  \n",
      " 8   CC Provider       3812 non-null   object \n",
      " 9   Email             3812 non-null   object \n",
      " 10  Job               3812 non-null   object \n",
      " 11  IP Address        3812 non-null   object \n",
      " 12  Language          3811 non-null   object \n",
      " 13  Purchase Price    3811 non-null   float64\n",
      "dtypes: float64(1), int64(2), object(11)\n",
      "memory usage: 417.1+ KB\n"
     ]
    }
   ],
   "source": [
    "data.info()"
   ]
  },
  {
   "cell_type": "markdown",
   "id": "66e475c3-1350-499c-b487-68a6c1fe4c1d",
   "metadata": {},
   "source": [
    "# 6. Highest and lowest Purchase prices"
   ]
  },
  {
   "cell_type": "code",
   "execution_count": 15,
   "id": "30529137-2ace-436e-8f2a-af4898d15719",
   "metadata": {},
   "outputs": [
    {
     "data": {
      "text/plain": [
       "Index(['Address', 'Lot', 'AM or PM', 'Browser Info', 'Company', 'Credit Card',\n",
       "       'CC Exp Date', 'CC Security Code', 'CC Provider', 'Email', 'Job',\n",
       "       'IP Address', 'Language', 'Purchase Price'],\n",
       "      dtype='object')"
      ]
     },
     "execution_count": 15,
     "metadata": {},
     "output_type": "execute_result"
    }
   ],
   "source": [
    "data.columns"
   ]
  },
  {
   "cell_type": "code",
   "execution_count": 16,
   "id": "e5aa8f7b-f168-4825-a943-49d4fa567f26",
   "metadata": {},
   "outputs": [
    {
     "data": {
      "text/plain": [
       "0       98.14\n",
       "1       70.73\n",
       "2        0.95\n",
       "3       78.04\n",
       "4       77.82\n",
       "        ...  \n",
       "3807    70.32\n",
       "3808     8.30\n",
       "3809     3.73\n",
       "3810    49.73\n",
       "3811      NaN\n",
       "Name: Purchase Price, Length: 3812, dtype: float64"
      ]
     },
     "execution_count": 16,
     "metadata": {},
     "output_type": "execute_result"
    }
   ],
   "source": [
    "data['Purchase Price']"
   ]
  },
  {
   "cell_type": "code",
   "execution_count": 17,
   "id": "407c6d03-e8b7-4d8b-8057-a6fa1cc111d9",
   "metadata": {},
   "outputs": [
    {
     "data": {
      "text/plain": [
       "99.99"
      ]
     },
     "execution_count": 17,
     "metadata": {},
     "output_type": "execute_result"
    }
   ],
   "source": [
    "data['Purchase Price'].max()"
   ]
  },
  {
   "cell_type": "code",
   "execution_count": 18,
   "id": "237f4bb3-2f7a-4deb-aeb1-9cb374497163",
   "metadata": {},
   "outputs": [
    {
     "data": {
      "text/plain": [
       "0.0"
      ]
     },
     "execution_count": 18,
     "metadata": {},
     "output_type": "execute_result"
    }
   ],
   "source": [
    "data['Purchase Price'].min()"
   ]
  },
  {
   "cell_type": "markdown",
   "id": "af3e4b17-cb50-440d-be0e-7257ca2b85f8",
   "metadata": {},
   "source": [
    "# 7. Average Purchase Price"
   ]
  },
  {
   "cell_type": "code",
   "execution_count": 19,
   "id": "547afa95-e308-42a2-baaf-fd6d9290d197",
   "metadata": {},
   "outputs": [
    {
     "data": {
      "text/plain": [
       "50.30394647074259"
      ]
     },
     "execution_count": 19,
     "metadata": {},
     "output_type": "execute_result"
    }
   ],
   "source": [
    "data['Purchase Price'].mean()"
   ]
  },
  {
   "cell_type": "markdown",
   "id": "97272d64-a1f4-4891-8632-2a0952a37df1",
   "metadata": {},
   "source": [
    "# 8. How many people have french 'fr' as their Language?"
   ]
  },
  {
   "cell_type": "code",
   "execution_count": 20,
   "id": "ab4ecf8a-de16-4532-bbf8-56d71e7e6f1d",
   "metadata": {},
   "outputs": [
    {
     "data": {
      "text/plain": [
       "Index(['Address', 'Lot', 'AM or PM', 'Browser Info', 'Company', 'Credit Card',\n",
       "       'CC Exp Date', 'CC Security Code', 'CC Provider', 'Email', 'Job',\n",
       "       'IP Address', 'Language', 'Purchase Price'],\n",
       "      dtype='object')"
      ]
     },
     "execution_count": 20,
     "metadata": {},
     "output_type": "execute_result"
    }
   ],
   "source": [
    "data.columns"
   ]
  },
  {
   "cell_type": "code",
   "execution_count": 25,
   "id": "71cab2bf-7b08-44da-8fce-cd9c67644e95",
   "metadata": {},
   "outputs": [
    {
     "data": {
      "text/html": [
       "<div>\n",
       "<style scoped>\n",
       "    .dataframe tbody tr th:only-of-type {\n",
       "        vertical-align: middle;\n",
       "    }\n",
       "\n",
       "    .dataframe tbody tr th {\n",
       "        vertical-align: top;\n",
       "    }\n",
       "\n",
       "    .dataframe thead th {\n",
       "        text-align: right;\n",
       "    }\n",
       "</style>\n",
       "<table border=\"1\" class=\"dataframe\">\n",
       "  <thead>\n",
       "    <tr style=\"text-align: right;\">\n",
       "      <th></th>\n",
       "      <th>Address</th>\n",
       "      <th>Lot</th>\n",
       "      <th>AM or PM</th>\n",
       "      <th>Browser Info</th>\n",
       "      <th>Company</th>\n",
       "      <th>Credit Card</th>\n",
       "      <th>CC Exp Date</th>\n",
       "      <th>CC Security Code</th>\n",
       "      <th>CC Provider</th>\n",
       "      <th>Email</th>\n",
       "      <th>Job</th>\n",
       "      <th>IP Address</th>\n",
       "      <th>Language</th>\n",
       "      <th>Purchase Price</th>\n",
       "    </tr>\n",
       "  </thead>\n",
       "  <tbody>\n",
       "    <tr>\n",
       "      <th>1</th>\n",
       "      <td>9374 Jasmine Spurs Suite 508\\nSouth John, TN 8...</td>\n",
       "      <td>28 rn</td>\n",
       "      <td>PM</td>\n",
       "      <td>Opera/8.93.(Windows 98; Win 9x 4.90; en-US) Pr...</td>\n",
       "      <td>Fletcher, Richards and Whitaker</td>\n",
       "      <td>3337758169645356</td>\n",
       "      <td>11/18</td>\n",
       "      <td>561</td>\n",
       "      <td>Mastercard</td>\n",
       "      <td>anthony41@reed.com</td>\n",
       "      <td>Drilling engineer</td>\n",
       "      <td>15.160.41.51</td>\n",
       "      <td>fr</td>\n",
       "      <td>70.73</td>\n",
       "    </tr>\n",
       "    <tr>\n",
       "      <th>19</th>\n",
       "      <td>125 Hall Summit\\nBoothton, IL 41721</td>\n",
       "      <td>99 CU</td>\n",
       "      <td>PM</td>\n",
       "      <td>Mozilla/5.0 (compatible; MSIE 7.0; Windows NT ...</td>\n",
       "      <td>Turner-Mckinney</td>\n",
       "      <td>676343504830</td>\n",
       "      <td>02/20</td>\n",
       "      <td>440</td>\n",
       "      <td>VISA 16 digit</td>\n",
       "      <td>ruiznicole@gmail.com</td>\n",
       "      <td>Designer, interior/spatial</td>\n",
       "      <td>25.105.209.214</td>\n",
       "      <td>fr</td>\n",
       "      <td>58.39</td>\n",
       "    </tr>\n",
       "    <tr>\n",
       "      <th>53</th>\n",
       "      <td>PSC 9431, Box 7059\\nAPO AA 29285-1363</td>\n",
       "      <td>14 qD</td>\n",
       "      <td>AM</td>\n",
       "      <td>Opera/9.34.(X11; Linux x86_64; it-IT) Presto/2...</td>\n",
       "      <td>Higgins, Cardenas and Kennedy</td>\n",
       "      <td>869972604798355</td>\n",
       "      <td>08/17</td>\n",
       "      <td>157</td>\n",
       "      <td>JCB 16 digit</td>\n",
       "      <td>amorales@yahoo.com</td>\n",
       "      <td>Technical author</td>\n",
       "      <td>44.108.117.122</td>\n",
       "      <td>fr</td>\n",
       "      <td>10.41</td>\n",
       "    </tr>\n",
       "    <tr>\n",
       "      <th>76</th>\n",
       "      <td>49206 Campbell Port\\nNorth Cliffordshire, HI 3...</td>\n",
       "      <td>71 iu</td>\n",
       "      <td>PM</td>\n",
       "      <td>Mozilla/5.0 (Macintosh; U; PPC Mac OS X 10_5_9...</td>\n",
       "      <td>Jacobs-Tucker</td>\n",
       "      <td>6011343518820988</td>\n",
       "      <td>01/17</td>\n",
       "      <td>806</td>\n",
       "      <td>Voyager</td>\n",
       "      <td>eperez@hotmail.com</td>\n",
       "      <td>Paramedic</td>\n",
       "      <td>210.207.58.168</td>\n",
       "      <td>fr</td>\n",
       "      <td>57.34</td>\n",
       "    </tr>\n",
       "    <tr>\n",
       "      <th>82</th>\n",
       "      <td>493 Smith Valleys Suite 004\\nNew Madelineville...</td>\n",
       "      <td>35 ls</td>\n",
       "      <td>PM</td>\n",
       "      <td>Mozilla/5.0 (iPod; U; CPU iPhone OS 4_0 like M...</td>\n",
       "      <td>Robinson, Johnston and Valdez</td>\n",
       "      <td>4351359627548412</td>\n",
       "      <td>06/17</td>\n",
       "      <td>937</td>\n",
       "      <td>VISA 13 digit</td>\n",
       "      <td>amendez@yahoo.com</td>\n",
       "      <td>Engineer, materials</td>\n",
       "      <td>163.129.163.100</td>\n",
       "      <td>fr</td>\n",
       "      <td>49.04</td>\n",
       "    </tr>\n",
       "    <tr>\n",
       "      <th>...</th>\n",
       "      <td>...</td>\n",
       "      <td>...</td>\n",
       "      <td>...</td>\n",
       "      <td>...</td>\n",
       "      <td>...</td>\n",
       "      <td>...</td>\n",
       "      <td>...</td>\n",
       "      <td>...</td>\n",
       "      <td>...</td>\n",
       "      <td>...</td>\n",
       "      <td>...</td>\n",
       "      <td>...</td>\n",
       "      <td>...</td>\n",
       "      <td>...</td>\n",
       "    </tr>\n",
       "    <tr>\n",
       "      <th>3762</th>\n",
       "      <td>0926 Rachel Extension Suite 013\\nWalkerstad, W...</td>\n",
       "      <td>68 yh</td>\n",
       "      <td>AM</td>\n",
       "      <td>Mozilla/5.0 (compatible; MSIE 7.0; Windows NT ...</td>\n",
       "      <td>Young, Schmidt and Aguilar</td>\n",
       "      <td>346974891556275</td>\n",
       "      <td>06/25</td>\n",
       "      <td>875</td>\n",
       "      <td>American Express</td>\n",
       "      <td>melanielambert@gmail.com</td>\n",
       "      <td>Equality and diversity officer</td>\n",
       "      <td>142.204.90.46</td>\n",
       "      <td>fr</td>\n",
       "      <td>14.27</td>\n",
       "    </tr>\n",
       "    <tr>\n",
       "      <th>3771</th>\n",
       "      <td>52156 Phillips Haven\\nTylerfort, KS 62987-6005</td>\n",
       "      <td>37 wg</td>\n",
       "      <td>AM</td>\n",
       "      <td>Mozilla/5.0 (Macintosh; Intel Mac OS X 10_8_9;...</td>\n",
       "      <td>Richard-Jackson</td>\n",
       "      <td>676132781672</td>\n",
       "      <td>04/26</td>\n",
       "      <td>777</td>\n",
       "      <td>VISA 16 digit</td>\n",
       "      <td>kylejones@yahoo.com</td>\n",
       "      <td>Curator</td>\n",
       "      <td>21.226.143.143</td>\n",
       "      <td>fr</td>\n",
       "      <td>49.90</td>\n",
       "    </tr>\n",
       "    <tr>\n",
       "      <th>3786</th>\n",
       "      <td>Unit 0568 Box 2984\\nDPO AE 61274-6097</td>\n",
       "      <td>87 BW</td>\n",
       "      <td>PM</td>\n",
       "      <td>Opera/9.74.(X11; Linux x86_64; sl-SI) Presto/2...</td>\n",
       "      <td>Barber-White</td>\n",
       "      <td>30086395868246</td>\n",
       "      <td>04/24</td>\n",
       "      <td>681</td>\n",
       "      <td>Voyager</td>\n",
       "      <td>carriesanders@evans-anderson.com</td>\n",
       "      <td>Radio producer</td>\n",
       "      <td>25.72.150.83</td>\n",
       "      <td>fr</td>\n",
       "      <td>67.16</td>\n",
       "    </tr>\n",
       "    <tr>\n",
       "      <th>3798</th>\n",
       "      <td>8461 Morales Way Apt. 798\\nHernandezside, WA 6...</td>\n",
       "      <td>79 aL</td>\n",
       "      <td>PM</td>\n",
       "      <td>Mozilla/5.0 (compatible; MSIE 8.0; Windows CE;...</td>\n",
       "      <td>Smith PLC</td>\n",
       "      <td>4112009432819785</td>\n",
       "      <td>01/17</td>\n",
       "      <td>18</td>\n",
       "      <td>American Express</td>\n",
       "      <td>ythompson@martin.com</td>\n",
       "      <td>Engineering geologist</td>\n",
       "      <td>216.105.107.235</td>\n",
       "      <td>fr</td>\n",
       "      <td>0.45</td>\n",
       "    </tr>\n",
       "    <tr>\n",
       "      <th>3809</th>\n",
       "      <td>308 Dixon Fords Suite 923\\nNicoleton, MH 45145</td>\n",
       "      <td>52 YN</td>\n",
       "      <td>AM</td>\n",
       "      <td>Mozilla/5.0 (Macintosh; Intel Mac OS X 10_7_8)...</td>\n",
       "      <td>Graham, Walker and Frazier</td>\n",
       "      <td>869929666344262</td>\n",
       "      <td>04/24</td>\n",
       "      <td>262</td>\n",
       "      <td>JCB 16 digit</td>\n",
       "      <td>laurengill@hotmail.com</td>\n",
       "      <td>Hotel manager</td>\n",
       "      <td>206.199.193.146</td>\n",
       "      <td>fr</td>\n",
       "      <td>3.73</td>\n",
       "    </tr>\n",
       "  </tbody>\n",
       "</table>\n",
       "<p>453 rows × 14 columns</p>\n",
       "</div>"
      ],
      "text/plain": [
       "                                                Address    Lot AM or PM  \\\n",
       "1     9374 Jasmine Spurs Suite 508\\nSouth John, TN 8...  28 rn       PM   \n",
       "19                  125 Hall Summit\\nBoothton, IL 41721  99 CU       PM   \n",
       "53                PSC 9431, Box 7059\\nAPO AA 29285-1363  14 qD       AM   \n",
       "76    49206 Campbell Port\\nNorth Cliffordshire, HI 3...  71 iu       PM   \n",
       "82    493 Smith Valleys Suite 004\\nNew Madelineville...  35 ls       PM   \n",
       "...                                                 ...    ...      ...   \n",
       "3762  0926 Rachel Extension Suite 013\\nWalkerstad, W...  68 yh       AM   \n",
       "3771     52156 Phillips Haven\\nTylerfort, KS 62987-6005  37 wg       AM   \n",
       "3786              Unit 0568 Box 2984\\nDPO AE 61274-6097  87 BW       PM   \n",
       "3798  8461 Morales Way Apt. 798\\nHernandezside, WA 6...  79 aL       PM   \n",
       "3809     308 Dixon Fords Suite 923\\nNicoleton, MH 45145  52 YN       AM   \n",
       "\n",
       "                                           Browser Info  \\\n",
       "1     Opera/8.93.(Windows 98; Win 9x 4.90; en-US) Pr...   \n",
       "19    Mozilla/5.0 (compatible; MSIE 7.0; Windows NT ...   \n",
       "53    Opera/9.34.(X11; Linux x86_64; it-IT) Presto/2...   \n",
       "76    Mozilla/5.0 (Macintosh; U; PPC Mac OS X 10_5_9...   \n",
       "82    Mozilla/5.0 (iPod; U; CPU iPhone OS 4_0 like M...   \n",
       "...                                                 ...   \n",
       "3762  Mozilla/5.0 (compatible; MSIE 7.0; Windows NT ...   \n",
       "3771  Mozilla/5.0 (Macintosh; Intel Mac OS X 10_8_9;...   \n",
       "3786  Opera/9.74.(X11; Linux x86_64; sl-SI) Presto/2...   \n",
       "3798  Mozilla/5.0 (compatible; MSIE 8.0; Windows CE;...   \n",
       "3809  Mozilla/5.0 (Macintosh; Intel Mac OS X 10_7_8)...   \n",
       "\n",
       "                              Company       Credit Card CC Exp Date  \\\n",
       "1     Fletcher, Richards and Whitaker  3337758169645356       11/18   \n",
       "19                    Turner-Mckinney      676343504830       02/20   \n",
       "53      Higgins, Cardenas and Kennedy   869972604798355       08/17   \n",
       "76                      Jacobs-Tucker  6011343518820988       01/17   \n",
       "82      Robinson, Johnston and Valdez  4351359627548412       06/17   \n",
       "...                               ...               ...         ...   \n",
       "3762       Young, Schmidt and Aguilar   346974891556275       06/25   \n",
       "3771                  Richard-Jackson      676132781672       04/26   \n",
       "3786                     Barber-White    30086395868246       04/24   \n",
       "3798                        Smith PLC  4112009432819785       01/17   \n",
       "3809       Graham, Walker and Frazier   869929666344262       04/24   \n",
       "\n",
       "      CC Security Code       CC Provider                             Email  \\\n",
       "1                  561        Mastercard                anthony41@reed.com   \n",
       "19                 440     VISA 16 digit              ruiznicole@gmail.com   \n",
       "53                 157      JCB 16 digit                amorales@yahoo.com   \n",
       "76                 806           Voyager                eperez@hotmail.com   \n",
       "82                 937     VISA 13 digit                 amendez@yahoo.com   \n",
       "...                ...               ...                               ...   \n",
       "3762               875  American Express          melanielambert@gmail.com   \n",
       "3771               777     VISA 16 digit               kylejones@yahoo.com   \n",
       "3786               681           Voyager  carriesanders@evans-anderson.com   \n",
       "3798                18  American Express              ythompson@martin.com   \n",
       "3809               262      JCB 16 digit            laurengill@hotmail.com   \n",
       "\n",
       "                                 Job       IP Address Language  Purchase Price  \n",
       "1                  Drilling engineer     15.160.41.51       fr           70.73  \n",
       "19        Designer, interior/spatial   25.105.209.214       fr           58.39  \n",
       "53                  Technical author   44.108.117.122       fr           10.41  \n",
       "76                         Paramedic   210.207.58.168       fr           57.34  \n",
       "82               Engineer, materials  163.129.163.100       fr           49.04  \n",
       "...                              ...              ...      ...             ...  \n",
       "3762  Equality and diversity officer    142.204.90.46       fr           14.27  \n",
       "3771                         Curator   21.226.143.143       fr           49.90  \n",
       "3786                  Radio producer     25.72.150.83       fr           67.16  \n",
       "3798           Engineering geologist  216.105.107.235       fr            0.45  \n",
       "3809                   Hotel manager  206.199.193.146       fr            3.73  \n",
       "\n",
       "[453 rows x 14 columns]"
      ]
     },
     "execution_count": 25,
     "metadata": {},
     "output_type": "execute_result"
    }
   ],
   "source": [
    "data[data['Language'] == 'fr']"
   ]
  },
  {
   "cell_type": "code",
   "execution_count": 26,
   "id": "81d34617-2dad-4b9d-a267-f84548e38cd8",
   "metadata": {},
   "outputs": [
    {
     "data": {
      "text/plain": [
       "453"
      ]
     },
     "execution_count": 26,
     "metadata": {},
     "output_type": "execute_result"
    }
   ],
   "source": [
    "len(data[data['Language'] == 'fr'])"
   ]
  },
  {
   "cell_type": "code",
   "execution_count": 27,
   "id": "864bd079-10c9-4d49-b35e-6cad229f09ab",
   "metadata": {},
   "outputs": [
    {
     "data": {
      "text/plain": [
       "Address             453\n",
       "Lot                 453\n",
       "AM or PM            453\n",
       "Browser Info        453\n",
       "Company             453\n",
       "Credit Card         453\n",
       "CC Exp Date         453\n",
       "CC Security Code    453\n",
       "CC Provider         453\n",
       "Email               453\n",
       "Job                 453\n",
       "IP Address          453\n",
       "Language            453\n",
       "Purchase Price      453\n",
       "dtype: int64"
      ]
     },
     "execution_count": 27,
     "metadata": {},
     "output_type": "execute_result"
    }
   ],
   "source": [
    "data[data['Language'] == 'fr'].count()"
   ]
  },
  {
   "cell_type": "markdown",
   "id": "5f0f4d53-2ec0-4b4f-b9ba-a8b6b49874d3",
   "metadata": {},
   "source": [
    "# 9. Job Title contains Engineer"
   ]
  },
  {
   "cell_type": "code",
   "execution_count": 28,
   "id": "21a487f5-d9e8-4419-9d3e-6c5399cbe4c8",
   "metadata": {},
   "outputs": [
    {
     "data": {
      "text/plain": [
       "Index(['Address', 'Lot', 'AM or PM', 'Browser Info', 'Company', 'Credit Card',\n",
       "       'CC Exp Date', 'CC Security Code', 'CC Provider', 'Email', 'Job',\n",
       "       'IP Address', 'Language', 'Purchase Price'],\n",
       "      dtype='object')"
      ]
     },
     "execution_count": 28,
     "metadata": {},
     "output_type": "execute_result"
    }
   ],
   "source": [
    "data.columns"
   ]
  },
  {
   "cell_type": "code",
   "execution_count": 29,
   "id": "11fc6c83-1492-4948-9e35-6f7c9f0f1edd",
   "metadata": {},
   "outputs": [
    {
     "data": {
      "text/plain": [
       "0       Scientist, product/process development\n",
       "1                            Drilling engineer\n",
       "2                     Customer service manager\n",
       "3                            Drilling engineer\n",
       "4                                  Fine artist\n",
       "                         ...                  \n",
       "3807                  Plant breeder/geneticist\n",
       "3808         Environmental health practitioner\n",
       "3809                             Hotel manager\n",
       "3810                  Engineer, communications\n",
       "3811                     Multimedia specialist\n",
       "Name: Job, Length: 3812, dtype: object"
      ]
     },
     "execution_count": 29,
     "metadata": {},
     "output_type": "execute_result"
    }
   ],
   "source": [
    "data['Job']"
   ]
  },
  {
   "cell_type": "code",
   "execution_count": 38,
   "id": "ca5aeeb3-e2e4-49ba-a244-c6264e431416",
   "metadata": {},
   "outputs": [
    {
     "data": {
      "text/plain": [
       "389"
      ]
     },
     "execution_count": 38,
     "metadata": {},
     "output_type": "execute_result"
    }
   ],
   "source": [
    "len(data[data['Job'].str.contains('Engineer',case=False)])"
   ]
  },
  {
   "cell_type": "markdown",
   "id": "316d8fac-7dd4-4bca-8027-7df91a5c72b3",
   "metadata": {},
   "source": [
    "# 10. Find Email of the person with the following IP address:132.207.160.22"
   ]
  },
  {
   "cell_type": "code",
   "execution_count": 39,
   "id": "fd4e0634-9c9e-4a5a-9d81-635b42626598",
   "metadata": {},
   "outputs": [
    {
     "data": {
      "text/plain": [
       "Index(['Address', 'Lot', 'AM or PM', 'Browser Info', 'Company', 'Credit Card',\n",
       "       'CC Exp Date', 'CC Security Code', 'CC Provider', 'Email', 'Job',\n",
       "       'IP Address', 'Language', 'Purchase Price'],\n",
       "      dtype='object')"
      ]
     },
     "execution_count": 39,
     "metadata": {},
     "output_type": "execute_result"
    }
   ],
   "source": [
    "data[data.columns"
   ]
  },
  {
   "cell_type": "code",
   "execution_count": 44,
   "id": "bf51ea22-7a24-46e9-a6ce-36c037f392c6",
   "metadata": {},
   "outputs": [
    {
     "data": {
      "text/plain": [
       "2    amymiller@morales-harrison.com\n",
       "Name: Email, dtype: object"
      ]
     },
     "execution_count": 44,
     "metadata": {},
     "output_type": "execute_result"
    }
   ],
   "source": [
    "data[data['IP Address']==\"132.207.160.22\"]['Email']"
   ]
  },
  {
   "cell_type": "markdown",
   "id": "b44d79be-d2cf-4fc7-8ae6-68d32f68d7b3",
   "metadata": {},
   "source": [
    "# 11. How many people have mastercard as their credit card provider and made a purchase above 50?"
   ]
  },
  {
   "cell_type": "code",
   "execution_count": 45,
   "id": "a5faef83-132b-4fea-89ad-a6c4676b7d9e",
   "metadata": {},
   "outputs": [
    {
     "data": {
      "text/plain": [
       "Index(['Address', 'Lot', 'AM or PM', 'Browser Info', 'Company', 'Credit Card',\n",
       "       'CC Exp Date', 'CC Security Code', 'CC Provider', 'Email', 'Job',\n",
       "       'IP Address', 'Language', 'Purchase Price'],\n",
       "      dtype='object')"
      ]
     },
     "execution_count": 45,
     "metadata": {},
     "output_type": "execute_result"
    }
   ],
   "source": [
    "data.columns"
   ]
  },
  {
   "cell_type": "code",
   "execution_count": 51,
   "id": "7b8951c3-1f29-4b84-b777-19f4a20bfe0d",
   "metadata": {},
   "outputs": [
    {
     "data": {
      "text/plain": [
       "176"
      ]
     },
     "execution_count": 51,
     "metadata": {},
     "output_type": "execute_result"
    }
   ],
   "source": [
    "len(data[(data['CC Provider']==\"Mastercard\") & (data['Purchase Price']>50)])"
   ]
  },
  {
   "cell_type": "markdown",
   "id": "e052ab5b-bd42-4678-9589-3a34794f0ea4",
   "metadata": {},
   "source": [
    "# 12. Find Email of the Person with the following credit card number: 675957666125"
   ]
  },
  {
   "cell_type": "code",
   "execution_count": 52,
   "id": "e985db41-ad87-4b4e-9eea-1c474ab4a442",
   "metadata": {},
   "outputs": [
    {
     "data": {
      "text/plain": [
       "Index(['Address', 'Lot', 'AM or PM', 'Browser Info', 'Company', 'Credit Card',\n",
       "       'CC Exp Date', 'CC Security Code', 'CC Provider', 'Email', 'Job',\n",
       "       'IP Address', 'Language', 'Purchase Price'],\n",
       "      dtype='object')"
      ]
     },
     "execution_count": 52,
     "metadata": {},
     "output_type": "execute_result"
    }
   ],
   "source": [
    "data.columns"
   ]
  },
  {
   "cell_type": "code",
   "execution_count": 60,
   "id": "3bc65ad2-42bd-4226-b648-1536c9465999",
   "metadata": {},
   "outputs": [
    {
     "data": {
      "text/plain": [
       "2    amymiller@morales-harrison.com\n",
       "Name: Email, dtype: object"
      ]
     },
     "execution_count": 60,
     "metadata": {},
     "output_type": "execute_result"
    }
   ],
   "source": [
    "data[data['Credit Card']==675957666125]['Email']"
   ]
  },
  {
   "cell_type": "markdown",
   "id": "d166609c-49fc-462e-9cf5-a71d857416c2",
   "metadata": {},
   "source": [
    "# 13. How many people purchase during the AM and How many people Purchase During PM?"
   ]
  },
  {
   "cell_type": "code",
   "execution_count": 61,
   "id": "1ee81a87-88a3-4e15-8665-ece8b2387971",
   "metadata": {},
   "outputs": [
    {
     "data": {
      "text/plain": [
       "Index(['Address', 'Lot', 'AM or PM', 'Browser Info', 'Company', 'Credit Card',\n",
       "       'CC Exp Date', 'CC Security Code', 'CC Provider', 'Email', 'Job',\n",
       "       'IP Address', 'Language', 'Purchase Price'],\n",
       "      dtype='object')"
      ]
     },
     "execution_count": 61,
     "metadata": {},
     "output_type": "execute_result"
    }
   ],
   "source": [
    "data.columns"
   ]
  },
  {
   "cell_type": "code",
   "execution_count": 63,
   "id": "dc30bc2e-392e-4aee-914a-fcf1fbfcadc9",
   "metadata": {},
   "outputs": [
    {
     "data": {
      "text/plain": [
       "AM or PM\n",
       "PM    1975\n",
       "AM    1837\n",
       "Name: count, dtype: int64"
      ]
     },
     "execution_count": 63,
     "metadata": {},
     "output_type": "execute_result"
    }
   ],
   "source": [
    "data['AM or PM'].value_counts()"
   ]
  },
  {
   "cell_type": "markdown",
   "id": "ed4a0c4d-36bb-4e04-bd5e-1577d15be6a3",
   "metadata": {},
   "source": [
    "# 14. How many people have a credit card that Expires in 2020?"
   ]
  },
  {
   "cell_type": "code",
   "execution_count": 64,
   "id": "d56745d5-746a-49ca-bb34-d4ac6920d0b5",
   "metadata": {},
   "outputs": [
    {
     "data": {
      "text/plain": [
       "Index(['Address', 'Lot', 'AM or PM', 'Browser Info', 'Company', 'Credit Card',\n",
       "       'CC Exp Date', 'CC Security Code', 'CC Provider', 'Email', 'Job',\n",
       "       'IP Address', 'Language', 'Purchase Price'],\n",
       "      dtype='object')"
      ]
     },
     "execution_count": 64,
     "metadata": {},
     "output_type": "execute_result"
    }
   ],
   "source": [
    "data.columns"
   ]
  },
  {
   "cell_type": "code",
   "execution_count": 69,
   "id": "6ebb5219-88ac-435b-a288-0e1484f5a01e",
   "metadata": {},
   "outputs": [
    {
     "data": {
      "text/plain": [
       "0       02/20\n",
       "1       11/18\n",
       "2       08/19\n",
       "3       02/24\n",
       "4       10/25\n",
       "        ...  \n",
       "3807    02/17\n",
       "3808    02/24\n",
       "3809    04/24\n",
       "3810    11/18\n",
       "3811    01/22\n",
       "Name: CC Exp Date, Length: 3812, dtype: object"
      ]
     },
     "execution_count": 69,
     "metadata": {},
     "output_type": "execute_result"
    }
   ],
   "source": [
    "data['CC Exp Date']"
   ]
  },
  {
   "cell_type": "code",
   "execution_count": 70,
   "id": "6fb50f9b-7f9f-49d2-87ad-bffe9aa7cd32",
   "metadata": {},
   "outputs": [],
   "source": [
    "def fun():\n",
    "    count=0\n",
    "    for date in data['CC Exp Date']:\n",
    "        if date.split('/')[1]=='20':\n",
    "            count=count+1\n",
    "    print(count)"
   ]
  },
  {
   "cell_type": "code",
   "execution_count": 71,
   "id": "6913240f-a58e-4f1f-96fd-7bd9d7208ece",
   "metadata": {},
   "outputs": [
    {
     "name": "stdout",
     "output_type": "stream",
     "text": [
      "361\n"
     ]
    }
   ],
   "source": [
    "fun()"
   ]
  },
  {
   "cell_type": "code",
   "execution_count": 74,
   "id": "bdad0040-e161-43df-9a4e-f453f73cd2e1",
   "metadata": {},
   "outputs": [
    {
     "data": {
      "text/plain": [
       "361"
      ]
     },
     "execution_count": 74,
     "metadata": {},
     "output_type": "execute_result"
    }
   ],
   "source": [
    "len(data[data['CC Exp Date'].apply(lambda x:x[3:]=='20')])"
   ]
  },
  {
   "cell_type": "markdown",
   "id": "1751a5d8-5d8a-4e24-a92c-87abfdf3f7a2",
   "metadata": {},
   "source": [
    "# 15. Top 5 most popular email providers(e.g.gmail.com,yahoo.com,etc...)"
   ]
  },
  {
   "cell_type": "code",
   "execution_count": 75,
   "id": "9d80a23c-ad7d-4670-be1f-8fe0b0845ebd",
   "metadata": {},
   "outputs": [],
   "source": [
    "list1 = []\n",
    "for email in data['Email']:\n",
    "    list1.append(email.split('@')[1])"
   ]
  },
  {
   "cell_type": "code",
   "execution_count": 77,
   "id": "e25e527c-36c4-4f3e-9715-2145bf01658b",
   "metadata": {},
   "outputs": [],
   "source": [
    "data['temp'] = list1"
   ]
  },
  {
   "cell_type": "code",
   "execution_count": 78,
   "id": "e5eac1b3-33c8-4259-b238-1d9bddbdfe9a",
   "metadata": {},
   "outputs": [
    {
     "data": {
      "text/html": [
       "<div>\n",
       "<style scoped>\n",
       "    .dataframe tbody tr th:only-of-type {\n",
       "        vertical-align: middle;\n",
       "    }\n",
       "\n",
       "    .dataframe tbody tr th {\n",
       "        vertical-align: top;\n",
       "    }\n",
       "\n",
       "    .dataframe thead th {\n",
       "        text-align: right;\n",
       "    }\n",
       "</style>\n",
       "<table border=\"1\" class=\"dataframe\">\n",
       "  <thead>\n",
       "    <tr style=\"text-align: right;\">\n",
       "      <th></th>\n",
       "      <th>Address</th>\n",
       "      <th>Lot</th>\n",
       "      <th>AM or PM</th>\n",
       "      <th>Browser Info</th>\n",
       "      <th>Company</th>\n",
       "      <th>Credit Card</th>\n",
       "      <th>CC Exp Date</th>\n",
       "      <th>CC Security Code</th>\n",
       "      <th>CC Provider</th>\n",
       "      <th>Email</th>\n",
       "      <th>Job</th>\n",
       "      <th>IP Address</th>\n",
       "      <th>Language</th>\n",
       "      <th>Purchase Price</th>\n",
       "      <th>temp</th>\n",
       "    </tr>\n",
       "  </thead>\n",
       "  <tbody>\n",
       "    <tr>\n",
       "      <th>0</th>\n",
       "      <td>16629 Pace Camp Apt. 448\\nAlexisborough, NE 77...</td>\n",
       "      <td>46 in</td>\n",
       "      <td>PM</td>\n",
       "      <td>Opera/9.56.(X11; Linux x86_64; sl-SI) Presto/2...</td>\n",
       "      <td>Martinez-Herman</td>\n",
       "      <td>6011929061123406</td>\n",
       "      <td>02/20</td>\n",
       "      <td>900</td>\n",
       "      <td>JCB 16 digit</td>\n",
       "      <td>pdunlap@yahoo.com</td>\n",
       "      <td>Scientist, product/process development</td>\n",
       "      <td>149.146.147.205</td>\n",
       "      <td>el</td>\n",
       "      <td>98.14</td>\n",
       "      <td>yahoo.com</td>\n",
       "    </tr>\n",
       "  </tbody>\n",
       "</table>\n",
       "</div>"
      ],
      "text/plain": [
       "                                             Address    Lot AM or PM  \\\n",
       "0  16629 Pace Camp Apt. 448\\nAlexisborough, NE 77...  46 in       PM   \n",
       "\n",
       "                                        Browser Info          Company  \\\n",
       "0  Opera/9.56.(X11; Linux x86_64; sl-SI) Presto/2...  Martinez-Herman   \n",
       "\n",
       "        Credit Card CC Exp Date  CC Security Code   CC Provider  \\\n",
       "0  6011929061123406       02/20               900  JCB 16 digit   \n",
       "\n",
       "               Email                                     Job       IP Address  \\\n",
       "0  pdunlap@yahoo.com  Scientist, product/process development  149.146.147.205   \n",
       "\n",
       "  Language  Purchase Price       temp  \n",
       "0       el           98.14  yahoo.com  "
      ]
     },
     "execution_count": 78,
     "metadata": {},
     "output_type": "execute_result"
    }
   ],
   "source": [
    "data.head(1)"
   ]
  },
  {
   "cell_type": "code",
   "execution_count": 80,
   "id": "7b4659ad-2684-413e-a6c1-abf0ddf1c45d",
   "metadata": {},
   "outputs": [
    {
     "data": {
      "text/plain": [
       "temp\n",
       "yahoo.com      647\n",
       "hotmail.com    635\n",
       "gmail.com      585\n",
       "smith.com       14\n",
       "johnson.com     12\n",
       "Name: count, dtype: int64"
      ]
     },
     "execution_count": 80,
     "metadata": {},
     "output_type": "execute_result"
    }
   ],
   "source": [
    "data['temp'].value_counts().head()"
   ]
  },
  {
   "cell_type": "code",
   "execution_count": 82,
   "id": "70028e03-27d3-4b32-92b8-0fdedb17b992",
   "metadata": {},
   "outputs": [
    {
     "data": {
      "text/plain": [
       "Email\n",
       "yahoo.com      647\n",
       "hotmail.com    635\n",
       "gmail.com      585\n",
       "smith.com       14\n",
       "johnson.com     12\n",
       "Name: count, dtype: int64"
      ]
     },
     "execution_count": 82,
     "metadata": {},
     "output_type": "execute_result"
    }
   ],
   "source": [
    "data['Email'].apply(lambda x:x.split('@')[1]).value_counts().head()"
   ]
  },
  {
   "cell_type": "markdown",
   "id": "93d7a8b2-c898-4c3a-a851-4e230f85fee7",
   "metadata": {},
   "source": [
    "# Thank You"
   ]
  },
  {
   "cell_type": "code",
   "execution_count": null,
   "id": "480045ad-e4aa-4aff-af45-27414dc9e31e",
   "metadata": {},
   "outputs": [],
   "source": []
  }
 ],
 "metadata": {
  "kernelspec": {
   "display_name": "Python 3 (ipykernel)",
   "language": "python",
   "name": "python3"
  },
  "language_info": {
   "codemirror_mode": {
    "name": "ipython",
    "version": 3
   },
   "file_extension": ".py",
   "mimetype": "text/x-python",
   "name": "python",
   "nbconvert_exporter": "python",
   "pygments_lexer": "ipython3",
   "version": "3.12.0"
  }
 },
 "nbformat": 4,
 "nbformat_minor": 5
}
